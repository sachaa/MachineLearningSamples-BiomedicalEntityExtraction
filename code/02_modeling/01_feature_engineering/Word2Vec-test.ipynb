{
 "cells": [
  {
   "cell_type": "code",
   "execution_count": 1,
   "metadata": {
    "collapsed": true
   },
   "outputs": [],
   "source": [
    "from pyspark import SparkConf\n",
    "from pyspark import SparkContext\n",
    "from pyspark.sql import SQLContext\n",
    "from pyspark.sql import SparkSession\n",
    "from pyspark.sql.functions import UserDefinedFunction\n",
    "from pyspark.ml.feature import Word2Vec, Word2VecModel\n",
    "from pyspark.ml.feature import Tokenizer, RegexTokenizer, StopWordsRemover\n",
    "from pyspark.sql.types import *\n",
    "import matplotlib.pyplot as plt\n",
    "import numpy as np\n",
    "import datetime\n",
    "import os\n",
    "import sys"
   ]
  },
  {
   "cell_type": "code",
   "execution_count": 2,
   "metadata": {
    "collapsed": true
   },
   "outputs": [],
   "source": [
    "sc = SparkContext()\n",
    "spark = SparkSession(sc)"
   ]
  },
  {
   "cell_type": "code",
   "execution_count": 3,
   "metadata": {
    "collapsed": true
   },
   "outputs": [],
   "source": [
    "parse_results_remote_dir = os.path.join('D:\\\\bio-ner\\\\tsv', 'pubmed_data', 'tsv_files')"
   ]
  },
  {
   "cell_type": "code",
   "execution_count": 4,
   "metadata": {},
   "outputs": [
    {
     "name": "stdout",
     "output_type": "stream",
     "text": [
      "Reading file D:\\bio-ner\\tsv\\pubmed_data\\tsv_files\\batch#1.tsv\n",
      "\tAdding 26828 records ...\n"
     ]
    }
   ],
   "source": [
    "timestart = datetime.datetime.now()\n",
    "num_xml_files = 2 \n",
    "batch_size =50\n",
    "pubmed_tsv_file = os.path.join(parse_results_remote_dir, 'batch#{}.tsv'.format(1))   \n",
    "print(\"Reading file {}\".format(pubmed_tsv_file))     \n",
    "abstracts_batch_df = spark.read.csv(path=pubmed_tsv_file, header=True, inferSchema=True, sep = \"\\t\")\n",
    "\n",
    "print(\"\\tAdding {} records ...\".format(abstracts_batch_df.count()))\n",
    "abstracts_full_df = abstracts_batch_df"
   ]
  },
  {
   "cell_type": "code",
   "execution_count": 5,
   "metadata": {
    "collapsed": true
   },
   "outputs": [],
   "source": [
    "for i in range(1 + batch_size, num_xml_files + 1, batch_size):  \n",
    "    try:\n",
    "        pubmed_tsv_file = os.path.join(parse_results_remote_dir, 'batch#{}.tsv'.format(i))   \n",
    "        print(\"Reading file {}\".format(pubmed_tsv_file))     \n",
    "        abstracts_batch_df = spark.read.csv(path=pubmed_tsv_file, header=True, inferSchema=True, sep = \"\\t\")\n",
    "\n",
    "        print(\"\\tAdding {} records ...\".format(abstracts_batch_df.count()))\n",
    "        \n",
    "        abstracts_full_df = abstracts_full_df.union(abstracts_batch_df)\n",
    "       \n",
    "    except:\n",
    "        print(\"Skipped\" + str(i))"
   ]
  },
  {
   "cell_type": "code",
   "execution_count": 6,
   "metadata": {},
   "outputs": [
    {
     "name": "stdout",
     "output_type": "stream",
     "text": [
      "root\n",
      " |-- pmid: integer (nullable = true)\n",
      " |-- abstract: string (nullable = true)\n",
      "\n",
      "abstracts_full_df.count() = 26828\n",
      "abstracts_full_df.head() = Row(pmid=30978, abstract='The paper describes a modified method of isolating the branching enzyme of amylose isomerase from muscles and a study of the enzyme activity at different stages of purification. By enzyme fractionation on biogel R-150 and Sepharose 6B the fractions containing different RNA amounts have been isolated. The activity of fractions has been shown to depend on their content of RNA. The paper presents a procedure used to isolate a highly purified fraction of amylose isomerase and its properties (pH and temperature optima, enzyme optimal concentration and Michaelis constant).')\n"
     ]
    }
   ],
   "source": [
    "abstracts_full_df.printSchema()\n",
    "print(\"abstracts_full_df.count() = {}\".format(abstracts_full_df.count()))\n",
    "print(\"abstracts_full_df.head() = {}\".format(abstracts_full_df.head()))"
   ]
  },
  {
   "cell_type": "code",
   "execution_count": 7,
   "metadata": {},
   "outputs": [
    {
     "name": "stdout",
     "output_type": "stream",
     "text": [
      "Time taken to execute above cell: 0.48 mins\n"
     ]
    }
   ],
   "source": [
    "timeend = datetime.datetime.now()\n",
    "timedelta = round((timeend - timestart).total_seconds() / 60, 2)\n",
    "print(\"Time taken to execute above cell: \" + str(timedelta) + \" mins\")\n",
    "\n",
    "abstracts_full_df2 = abstracts_full_df"
   ]
  },
  {
   "cell_type": "code",
   "execution_count": 8,
   "metadata": {
    "collapsed": true
   },
   "outputs": [],
   "source": [
    "from pyspark.sql.functions import regexp_replace, trim, col, lower, udf\n",
    "from pyspark.ml.feature import Tokenizer, RegexTokenizer\n",
    "from pyspark.ml.feature import StopWordsRemover"
   ]
  },
  {
   "cell_type": "code",
   "execution_count": 9,
   "metadata": {},
   "outputs": [
    {
     "name": "stdout",
     "output_type": "stream",
     "text": [
      "abstracts_full_df2.head() = Row(pmid=30978, abstract='The paper describes a modified method of isolating the branching enzyme of amylose isomerase from muscles and a study of the enzyme activity at different stages of purification. By enzyme fractionation on biogel R-150 and Sepharose 6B the fractions containing different RNA amounts have been isolated. The activity of fractions has been shown to depend on their content of RNA. The paper presents a procedure used to isolate a highly purified fraction of amylose isomerase and its properties (pH and temperature optima, enzyme optimal concentration and Michaelis constant).')\n",
      "Converting the abstarct to Lower Case ... \n",
      "root\n",
      " |-- pmid: integer (nullable = true)\n",
      " |-- abstract: string (nullable = true)\n",
      " |-- abstractNew: string (nullable = true)\n",
      "\n",
      "abstracts_full_df3.head() = Row(pmid=30978, abstract='The paper describes a modified method of isolating the branching enzyme of amylose isomerase from muscles and a study of the enzyme activity at different stages of purification. By enzyme fractionation on biogel R-150 and Sepharose 6B the fractions containing different RNA amounts have been isolated. The activity of fractions has been shown to depend on their content of RNA. The paper presents a procedure used to isolate a highly purified fraction of amylose isomerase and its properties (pH and temperature optima, enzyme optimal concentration and Michaelis constant).', abstractNew='the paper describes a modified method of isolating the branching enzyme of amylose isomerase from muscles and a study of the enzyme activity at different stages of purification by enzyme fractionation on biogel r-150 and sepharose 6b the fractions containing different rna amounts have been isolated the activity of fractions has been shown to depend on their content of rna the paper presents a procedure used to isolate a highly purified fraction of amylose isomerase and its properties ph and temperature optima enzyme optimal concentration and michaelis constant')\n",
      "tokenizating the abstracts... \n",
      "After tokenization: \n",
      "root\n",
      " |-- pmid: integer (nullable = true)\n",
      " |-- abstract: string (nullable = true)\n",
      " |-- abstractNew: string (nullable = true)\n",
      " |-- words: array (nullable = true)\n",
      " |    |-- element: string (containsNull = true)\n",
      "\n",
      "abstracts_full_df4.count() = 26828\n",
      "abstracts_full_df4.head() = Row(pmid=30978, abstract='The paper describes a modified method of isolating the branching enzyme of amylose isomerase from muscles and a study of the enzyme activity at different stages of purification. By enzyme fractionation on biogel R-150 and Sepharose 6B the fractions containing different RNA amounts have been isolated. The activity of fractions has been shown to depend on their content of RNA. The paper presents a procedure used to isolate a highly purified fraction of amylose isomerase and its properties (pH and temperature optima, enzyme optimal concentration and Michaelis constant).', abstractNew='the paper describes a modified method of isolating the branching enzyme of amylose isomerase from muscles and a study of the enzyme activity at different stages of purification by enzyme fractionation on biogel r-150 and sepharose 6b the fractions containing different rna amounts have been isolated the activity of fractions has been shown to depend on their content of rna the paper presents a procedure used to isolate a highly purified fraction of amylose isomerase and its properties ph and temperature optima enzyme optimal concentration and michaelis constant', words=['the', 'paper', 'describes', 'a', 'modified', 'method', 'of', 'isolating', 'the', 'branching', 'enzyme', 'of', 'amylose', 'isomerase', 'from', 'muscles', 'and', 'a', 'study', 'of', 'the', 'enzyme', 'activity', 'at', 'different', 'stages', 'of', 'purification', 'by', 'enzyme', 'fractionation', 'on', 'biogel', 'r-150', 'and', 'sepharose', '6b', 'the', 'fractions', 'containing', 'different', 'rna', 'amounts', 'have', 'been', 'isolated', 'the', 'activity', 'of', 'fractions', 'has', 'been', 'shown', 'to', 'depend', 'on', 'their', 'content', 'of', 'rna', 'the', 'paper', 'presents', 'a', 'procedure', 'used', 'to', 'isolate', 'a', 'highly', 'purified', 'fraction', 'of', 'amylose', 'isomerase', 'and', 'its', 'properties', 'ph', 'and', 'temperature', 'optima', 'enzyme', 'optimal', 'concentration', 'and', 'michaelis', 'constant'])\n",
      "Time taken to execute above cell: 0.85 mins\n"
     ]
    }
   ],
   "source": [
    "print(\"abstracts_full_df2.head() = {}\".format(abstracts_full_df2.head()))\n",
    "\n",
    "# Convert the content to Lower Case\n",
    "print(\"Converting the abstarct to Lower Case ... \")\n",
    "abstracts_full_df3 = abstracts_full_df2.withColumn(\"abstractNew\", lower(col(\"abstract\"))).\\\n",
    "    withColumn(\"abstractNew\", regexp_replace(\"abstractNew\", '[^\\w-_ ]', \"\"))\n",
    "\n",
    "abstracts_full_df3.printSchema()\n",
    "print(\"abstracts_full_df3.head() = {}\".format(abstracts_full_df3.head()))\n",
    "\n",
    "# Tokenize the Abstracts\n",
    "print(\"tokenizating the abstracts... \")\n",
    "tokenizer = Tokenizer(inputCol=\"abstractNew\", outputCol=\"words\")\n",
    "remover = StopWordsRemover(inputCol=\"words\", outputCol=\"filtWords\")\n",
    "\n",
    "abstracts_full_df4 = tokenizer.transform(abstracts_full_df3)\n",
    "\n",
    "print(\"After tokenization: \")\n",
    "abstracts_full_df4.printSchema()\n",
    "print(\"abstracts_full_df4.count() = {}\".format(abstracts_full_df4.count()))\n",
    "print(\"abstracts_full_df4.head() = {}\".format(abstracts_full_df4.head()))\n",
    "\n",
    "# PRINT HOW MUCH TIME IT TOOK TO RUN THE CELL\n",
    "timeend = datetime.datetime.now()\n",
    "timedelta = round((timeend - timestart).total_seconds() / 60, 2)\n",
    "print(\"Time taken to execute above cell: \" + str(timedelta) + \" mins\")"
   ]
  },
  {
   "cell_type": "code",
   "execution_count": 10,
   "metadata": {},
   "outputs": [
    {
     "name": "stdout",
     "output_type": "stream",
     "text": [
      "Start training the model ...\n"
     ]
    }
   ],
   "source": [
    "timestart = datetime.datetime.now()\n",
    "model = None\n",
    "window_size = 5\n",
    "vector_size = 50\n",
    "min_count =1000\n",
    "print(\"Start training the model ...\")\n",
    "word2Vec = Word2Vec(windowSize = window_size, vectorSize = vector_size, minCount=min_count, numPartitions=10, inputCol=\"words\", outputCol=\"result\")\n",
    "model = word2Vec.fit(abstracts_full_df4)"
   ]
  },
  {
   "cell_type": "code",
   "execution_count": 11,
   "metadata": {},
   "outputs": [
    {
     "name": "stdout",
     "output_type": "stream",
     "text": [
      "model.getVectors().count() = 442\n",
      "model.getVectors().head() = Row(word='rate', vector=DenseVector([-0.9451, -1.7659, -0.1507, 3.5502, -0.7239, 0.4562, -0.253, -2.8837, 2.1748, 4.4777, -0.3117, -1.3058, 5.2181, -0.8886, -0.0424, -0.1025, -1.1013, 4.0176, 0.2005, 1.1202, 0.5815, -1.9429, 1.54, 1.0596, -5.89, 2.5988, 2.9339, -0.2831, 1.8331, -1.7408, 4.1616, 0.1448, 0.1951, 0.0499, -0.3289, -4.6675, 3.1592, 0.5372, -0.5875, -2.3299, -1.1386, 1.1978, 2.7699, -1.9725, -4.5962, -3.1193, 1.0886, -1.9481, 5.1783, 4.276]))\n",
      "Time taken to train the word2Vec model: 0.38 mins\n"
     ]
    }
   ],
   "source": [
    "timeend = datetime.datetime.now()\n",
    "timedelta = round((timeend - timestart).total_seconds() / 60, 2)\n",
    "print(\"model.getVectors().count() = {}\".format(model.getVectors().count()))\n",
    "print(\"model.getVectors().head() = {}\".format(model.getVectors().head()))\n",
    "print(\"Time taken to train the word2Vec model: \" + str(timedelta) + \" mins\")"
   ]
  },
  {
   "cell_type": "code",
   "execution_count": 13,
   "metadata": {},
   "outputs": [
    {
     "name": "stdout",
     "output_type": "stream",
     "text": [
      "findSynonyms('heart') = [Row(word='fetal'), Row(word='flow'), Row(word='pressure'), Row(word='arterial'), Row(word='blood'), Row(word='rate'), Row(word='oxygen'), Row(word='decreased'), Row(word='renal'), Row(word='fluid'), Row(word='increased'), Row(word='urine'), Row(word='mean'), Row(word='liver'), Row(word='plasma'), Row(word='muscle'), Row(word='significantly'), Row(word='brain'), Row(word='subjects'), Row(word='rates')]\n"
     ]
    }
   ],
   "source": [
    "print(\"findSynonyms('heart') = {}\".format(model.findSynonyms(\"heart\", 20).select(\"word\").head(20)))"
   ]
  },
  {
   "cell_type": "code",
   "execution_count": 24,
   "metadata": {},
   "outputs": [
    {
     "name": "stdout",
     "output_type": "stream",
     "text": [
      "26828\n",
      "442\n",
      "root\n",
      " |-- word: string (nullable = true)\n",
      " |-- vector: vector (nullable = true)\n",
      "\n"
     ]
    }
   ],
   "source": [
    "print(abstracts_full_df4.count())\n",
    "print(model.getVectors().count())\n",
    "model.getVectors().printSchema()"
   ]
  },
  {
   "cell_type": "code",
   "execution_count": 25,
   "metadata": {},
   "outputs": [
    {
     "data": {
      "text/plain": [
       "'a b a b a b a b a b a b a b a b a b a b '"
      ]
     },
     "execution_count": 25,
     "metadata": {},
     "output_type": "execute_result"
    }
   ],
   "source": [
    "\"a b \" * 10"
   ]
  },
  {
   "cell_type": "code",
   "execution_count": null,
   "metadata": {
    "collapsed": true
   },
   "outputs": [],
   "source": []
  }
 ],
 "metadata": {
  "kernelspec": {
   "display_name": "Python 3",
   "language": "python",
   "name": "python3"
  },
  "language_info": {
   "codemirror_mode": {
    "name": "ipython",
    "version": 3
   },
   "file_extension": ".py",
   "mimetype": "text/x-python",
   "name": "python",
   "nbconvert_exporter": "python",
   "pygments_lexer": "ipython3",
   "version": "3.6.2"
  }
 },
 "nbformat": 4,
 "nbformat_minor": 2
}
